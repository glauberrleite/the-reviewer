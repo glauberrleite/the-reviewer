{
 "metadata": {
  "language_info": {
   "codemirror_mode": {
    "name": "ipython",
    "version": 3
   },
   "file_extension": ".py",
   "mimetype": "text/x-python",
   "name": "python",
   "nbconvert_exporter": "python",
   "pygments_lexer": "ipython3",
   "version": "3.7.9-final"
  },
  "orig_nbformat": 2,
  "kernelspec": {
   "name": "Python 3.7.9 64-bit ('reviewer': conda)",
   "display_name": "Python 3.7.9 64-bit ('reviewer': conda)",
   "metadata": {
    "interpreter": {
     "hash": "6c3ecde29c1873a144d0234ba9aabac23d762272593c74b5eaae83e7e0dc224d"
    }
   }
  }
 },
 "nbformat": 4,
 "nbformat_minor": 2,
 "cells": [
  {
   "source": [
    "# Machine Learning Embedded System\n",
    "## Final Project -> Training notebook\n",
    "## Author: Glauber Rodrigues Leite"
   ],
   "cell_type": "markdown",
   "metadata": {}
  },
  {
   "cell_type": "code",
   "execution_count": 32,
   "metadata": {},
   "outputs": [],
   "source": [
    "import pandas as pd\n",
    "import numpy as np\n",
    "import nltk\n",
    "import joblib\n",
    "from sklearn.feature_extraction.text import TfidfVectorizer\n",
    "from sklearn.model_selection import train_test_split\n",
    "from service.preprocess import PreProcess"
   ]
  },
  {
   "source": [
    "## Reading and treating data"
   ],
   "cell_type": "markdown",
   "metadata": {}
  },
  {
   "source": [
    "Reading CSV"
   ],
   "cell_type": "markdown",
   "metadata": {}
  },
  {
   "cell_type": "code",
   "execution_count": 33,
   "metadata": {
    "tags": []
   },
   "outputs": [],
   "source": [
    "data = pd.read_csv('steam_reviews.csv')\n"
   ]
  },
  {
   "source": [
    "Assigning a number to recommendation field"
   ],
   "cell_type": "markdown",
   "metadata": {}
  },
  {
   "cell_type": "code",
   "execution_count": 34,
   "metadata": {},
   "outputs": [],
   "source": [
    "for idx, recommendation in enumerate(data['recommendation']):\n",
    "    if \"Not Recommended\" in recommendation:\n",
    "        data['recommendation'][idx] = 0\n",
    "    else:\n",
    "        data['recommendation'][idx] = 1"
   ]
  },
  {
   "cell_type": "code",
   "execution_count": 35,
   "metadata": {},
   "outputs": [
    {
     "output_type": "execute_result",
     "data": {
      "text/plain": "1    6832\n0    3740\nName: recommendation, dtype: int64"
     },
     "metadata": {},
     "execution_count": 35
    }
   ],
   "source": [
    "data['recommendation'].value_counts()"
   ]
  },
  {
   "source": [
    "We have more \"recommended\" instances than \"not_recommended\" instances. So, we need to "
   ],
   "cell_type": "markdown",
   "metadata": {}
  },
  {
   "cell_type": "code",
   "execution_count": 36,
   "metadata": {},
   "outputs": [],
   "source": [
    "not_recommended = data[data['recommendation'] == 0]\n",
    "recommended = data[data['recommendation'] == 1]\n",
    "recommended = recommended.sample(len(not_recommended))\n",
    "data = pd.concat([recommended, not_recommended])"
   ]
  },
  {
   "cell_type": "code",
   "execution_count": 37,
   "metadata": {},
   "outputs": [
    {
     "output_type": "execute_result",
     "data": {
      "text/plain": "1    3740\n0    3740\nName: recommendation, dtype: int64"
     },
     "metadata": {},
     "execution_count": 37
    }
   ],
   "source": [
    "data['recommendation'].value_counts()"
   ]
  },
  {
   "source": [
    "Cleaning reviews documents"
   ],
   "cell_type": "markdown",
   "metadata": {}
  },
  {
   "cell_type": "code",
   "execution_count": 38,
   "metadata": {},
   "outputs": [],
   "source": [
    "data['review'] = data['review'].astype(str)\n",
    "pre_processor = PreProcess(data, 'review')\n",
    "data = pre_processor.clean_html()\n",
    "data = pre_processor.remove_non_ascii()\n",
    "data = pre_processor.remove_spaces()\n",
    "data = pre_processor.remove_punctuation()\n",
    "data = pre_processor.stemming()\n",
    "data = pre_processor.lemmatization()\n",
    "data = pre_processor.stop_words()"
   ]
  },
  {
   "source": [
    "## Fitting TF-IDF vectorizer"
   ],
   "cell_type": "markdown",
   "metadata": {}
  },
  {
   "cell_type": "code",
   "execution_count": 41,
   "metadata": {},
   "outputs": [],
   "source": [
    "train_x, test_x, train_y, test_y = train_test_split(data.review, data.recommendation, test_size=0.20)"
   ]
  },
  {
   "cell_type": "code",
   "execution_count": 42,
   "metadata": {},
   "outputs": [],
   "source": [
    "tfidf_transformer = TfidfVectorizer(min_df=1)"
   ]
  },
  {
   "cell_type": "code",
   "execution_count": 43,
   "metadata": {},
   "outputs": [],
   "source": [
    "train_vectors = tfidf_transformer.fit_transform(train_x)"
   ]
  },
  {
   "cell_type": "code",
   "execution_count": 44,
   "metadata": {},
   "outputs": [
    {
     "output_type": "execute_result",
     "data": {
      "text/plain": "[&#39;service/tfidf_vectorizer.joblib&#39;]"
     },
     "metadata": {},
     "execution_count": 44
    }
   ],
   "source": [
    "joblib.dump(tfidf_transformer, 'service/tfidf_vectorizer.joblib')"
   ]
  },
  {
   "source": [
    "## Classification for recommendation"
   ],
   "cell_type": "markdown",
   "metadata": {}
  },
  {
   "cell_type": "code",
   "execution_count": 57,
   "metadata": {},
   "outputs": [
    {
     "output_type": "execute_result",
     "data": {
      "text/plain": "SVC(C=0.025, kernel=&#39;linear&#39;, probability=True)"
     },
     "metadata": {},
     "execution_count": 57
    }
   ],
   "source": [
    "from sklearn.svm import SVC\n",
    "from sklearn.metrics import confusion_matrix\n",
    "\n",
    "recommendation_clf = SVC(kernel=\"linear\", C=0.025, probability=True)\n",
    "recommendation_clf.fit(train_vectors, train_y.astype(int))"
   ]
  },
  {
   "cell_type": "code",
   "execution_count": 58,
   "metadata": {},
   "outputs": [
    {
     "output_type": "execute_result",
     "data": {
      "text/plain": "[&#39;service/recommendation_clf.joblib&#39;]"
     },
     "metadata": {},
     "execution_count": 58
    }
   ],
   "source": [
    "joblib.dump(recommendation_clf, 'service/recommendation_clf.joblib')"
   ]
  },
  {
   "cell_type": "code",
   "execution_count": null,
   "metadata": {},
   "outputs": [],
   "source": []
  }
 ]
}